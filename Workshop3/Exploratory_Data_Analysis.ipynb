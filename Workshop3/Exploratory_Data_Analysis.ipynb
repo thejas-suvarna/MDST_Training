{
  "nbformat": 4,
  "nbformat_minor": 0,
  "metadata": {
    "colab": {
      "name": "Exploratory Data Analysis.ipynb",
      "provenance": [],
      "collapsed_sections": []
    },
    "kernelspec": {
      "name": "python3",
      "display_name": "Python 3"
    }
  },
  "cells": [
    {
      "cell_type": "code",
      "metadata": {
        "id": "J0VkPJRFJT-e",
        "colab_type": "code",
        "colab": {}
      },
      "source": [
        "import pandas as pd\n",
        "import matplotlib.pyplot as plt\n",
        "import scipy.stats"
      ],
      "execution_count": 0,
      "outputs": []
    },
    {
      "cell_type": "code",
      "metadata": {
        "id": "QR6jrutyLEiW",
        "colab_type": "code",
        "colab": {
          "base_uri": "https://localhost:8080/",
          "height": 419
        },
        "outputId": "2534bd70-4a9c-45fc-ba1b-285cf9923b03"
      },
      "source": [
        "df = pd.read_csv(\"/HospitalAdmissionsData.csv\")\n",
        "df"
      ],
      "execution_count": 14,
      "outputs": [
        {
          "output_type": "execute_result",
          "data": {
            "text/html": [
              "<div>\n",
              "<style scoped>\n",
              "    .dataframe tbody tr th:only-of-type {\n",
              "        vertical-align: middle;\n",
              "    }\n",
              "\n",
              "    .dataframe tbody tr th {\n",
              "        vertical-align: top;\n",
              "    }\n",
              "\n",
              "    .dataframe thead th {\n",
              "        text-align: right;\n",
              "    }\n",
              "</style>\n",
              "<table border=\"1\" class=\"dataframe\">\n",
              "  <thead>\n",
              "    <tr style=\"text-align: right;\">\n",
              "      <th></th>\n",
              "      <th>ID</th>\n",
              "      <th>AdmissionLengthDays</th>\n",
              "      <th>Death_1</th>\n",
              "      <th>Admission_Type</th>\n",
              "      <th>Insurance_Type</th>\n",
              "      <th>EnglishLanguage_1</th>\n",
              "      <th>Religion_Type</th>\n",
              "      <th>Married_1</th>\n",
              "      <th>Race</th>\n",
              "      <th>Dx</th>\n",
              "    </tr>\n",
              "  </thead>\n",
              "  <tbody>\n",
              "    <tr>\n",
              "      <th>0</th>\n",
              "      <td>42862</td>\n",
              "      <td>4.277778</td>\n",
              "      <td>0</td>\n",
              "      <td>elective</td>\n",
              "      <td>private</td>\n",
              "      <td>1</td>\n",
              "      <td>episcopalian</td>\n",
              "      <td>1</td>\n",
              "      <td>white</td>\n",
              "      <td>mitral stenosis\\mitral valve replacement /sda</td>\n",
              "    </tr>\n",
              "    <tr>\n",
              "      <th>1</th>\n",
              "      <td>5967</td>\n",
              "      <td>26.122917</td>\n",
              "      <td>0</td>\n",
              "      <td>elective</td>\n",
              "      <td>private</td>\n",
              "      <td>0</td>\n",
              "      <td>catholic</td>\n",
              "      <td>1</td>\n",
              "      <td>white</td>\n",
              "      <td>duodenal mass/sda</td>\n",
              "    </tr>\n",
              "    <tr>\n",
              "      <th>2</th>\n",
              "      <td>50952</td>\n",
              "      <td>7.028472</td>\n",
              "      <td>1</td>\n",
              "      <td>emergency</td>\n",
              "      <td>medicare</td>\n",
              "      <td>1</td>\n",
              "      <td>catholic</td>\n",
              "      <td>0</td>\n",
              "      <td>asian - japanese</td>\n",
              "      <td>? serotonin syndrome</td>\n",
              "    </tr>\n",
              "    <tr>\n",
              "      <th>3</th>\n",
              "      <td>17138</td>\n",
              "      <td>34.187500</td>\n",
              "      <td>0</td>\n",
              "      <td>elective</td>\n",
              "      <td>medicare</td>\n",
              "      <td>1</td>\n",
              "      <td>catholic</td>\n",
              "      <td>1</td>\n",
              "      <td>white</td>\n",
              "      <td>abdominal aortic aneurysm/sda</td>\n",
              "    </tr>\n",
              "    <tr>\n",
              "      <th>4</th>\n",
              "      <td>27703</td>\n",
              "      <td>6.165972</td>\n",
              "      <td>0</td>\n",
              "      <td>elective</td>\n",
              "      <td>government</td>\n",
              "      <td>0</td>\n",
              "      <td>protestant quaker</td>\n",
              "      <td>0</td>\n",
              "      <td>black/african american</td>\n",
              "      <td>absence/sda</td>\n",
              "    </tr>\n",
              "    <tr>\n",
              "      <th>...</th>\n",
              "      <td>...</td>\n",
              "      <td>...</td>\n",
              "      <td>...</td>\n",
              "      <td>...</td>\n",
              "      <td>...</td>\n",
              "      <td>...</td>\n",
              "      <td>...</td>\n",
              "      <td>...</td>\n",
              "      <td>...</td>\n",
              "      <td>...</td>\n",
              "    </tr>\n",
              "    <tr>\n",
              "      <th>58858</th>\n",
              "      <td>42349</td>\n",
              "      <td>12.177083</td>\n",
              "      <td>0</td>\n",
              "      <td>elective</td>\n",
              "      <td>medicare</td>\n",
              "      <td>1</td>\n",
              "      <td>catholic</td>\n",
              "      <td>1</td>\n",
              "      <td>white</td>\n",
              "      <td>zenker's diverticulum/sda</td>\n",
              "    </tr>\n",
              "    <tr>\n",
              "      <th>58859</th>\n",
              "      <td>57461</td>\n",
              "      <td>10.613889</td>\n",
              "      <td>0</td>\n",
              "      <td>elective</td>\n",
              "      <td>medicare</td>\n",
              "      <td>1</td>\n",
              "      <td>catholic</td>\n",
              "      <td>0</td>\n",
              "      <td>white</td>\n",
              "      <td>zenker's diverticulum/sda</td>\n",
              "    </tr>\n",
              "    <tr>\n",
              "      <th>58860</th>\n",
              "      <td>11800</td>\n",
              "      <td>1.095139</td>\n",
              "      <td>0</td>\n",
              "      <td>emergency</td>\n",
              "      <td>private</td>\n",
              "      <td>0</td>\n",
              "      <td>unobtainable</td>\n",
              "      <td>0</td>\n",
              "      <td>white</td>\n",
              "      <td>zone 2 neck injury</td>\n",
              "    </tr>\n",
              "    <tr>\n",
              "      <th>58861</th>\n",
              "      <td>54574</td>\n",
              "      <td>2.925000</td>\n",
              "      <td>0</td>\n",
              "      <td>emergency</td>\n",
              "      <td>medicare</td>\n",
              "      <td>1</td>\n",
              "      <td>not specified</td>\n",
              "      <td>0</td>\n",
              "      <td>black/african american</td>\n",
              "      <td>zoster vs. meningitis</td>\n",
              "    </tr>\n",
              "    <tr>\n",
              "      <th>58862</th>\n",
              "      <td>29394</td>\n",
              "      <td>2.851389</td>\n",
              "      <td>0</td>\n",
              "      <td>emergency</td>\n",
              "      <td>private</td>\n",
              "      <td>1</td>\n",
              "      <td>unobtainable</td>\n",
              "      <td>0</td>\n",
              "      <td>white</td>\n",
              "      <td>zygomatic fracture left</td>\n",
              "    </tr>\n",
              "  </tbody>\n",
              "</table>\n",
              "<p>58863 rows × 10 columns</p>\n",
              "</div>"
            ],
            "text/plain": [
              "          ID  ...                                               Dx\n",
              "0      42862  ...    mitral stenosis\\mitral valve replacement /sda\n",
              "1       5967  ...                                duodenal mass/sda\n",
              "2      50952  ...                             ? serotonin syndrome\n",
              "3      17138  ...                    abdominal aortic aneurysm/sda\n",
              "4      27703  ...                                      absence/sda\n",
              "...      ...  ...                                              ...\n",
              "58858  42349  ...                        zenker's diverticulum/sda\n",
              "58859  57461  ...                        zenker's diverticulum/sda\n",
              "58860  11800  ...                               zone 2 neck injury\n",
              "58861  54574  ...                            zoster vs. meningitis\n",
              "58862  29394  ...                          zygomatic fracture left\n",
              "\n",
              "[58863 rows x 10 columns]"
            ]
          },
          "metadata": {
            "tags": []
          },
          "execution_count": 14
        }
      ]
    },
    {
      "cell_type": "markdown",
      "metadata": {
        "id": "nb8IVo0IL1ms",
        "colab_type": "text"
      },
      "source": [
        "1) Features that exist in this dataset\n",
        "\n"
      ]
    },
    {
      "cell_type": "code",
      "metadata": {
        "id": "JsbufgmtLvEV",
        "colab_type": "code",
        "colab": {
          "base_uri": "https://localhost:8080/",
          "height": 85
        },
        "outputId": "224e373e-6196-4052-e6b9-3e2e671adff4"
      },
      "source": [
        "df.columns"
      ],
      "execution_count": 15,
      "outputs": [
        {
          "output_type": "execute_result",
          "data": {
            "text/plain": [
              "Index(['ID', 'AdmissionLengthDays', 'Death_1', 'Admission_Type',\n",
              "       'Insurance_Type', 'EnglishLanguage_1', 'Religion_Type', 'Married_1',\n",
              "       'Race', 'Dx'],\n",
              "      dtype='object')"
            ]
          },
          "metadata": {
            "tags": []
          },
          "execution_count": 15
        }
      ]
    },
    {
      "cell_type": "markdown",
      "metadata": {
        "id": "tCqna8--L9JX",
        "colab_type": "text"
      },
      "source": [
        "2) Float vs Integer Features"
      ]
    },
    {
      "cell_type": "code",
      "metadata": {
        "id": "-6y3XER4MBL9",
        "colab_type": "code",
        "colab": {
          "base_uri": "https://localhost:8080/",
          "height": 34
        },
        "outputId": "bcb147e8-97b9-4cc7-ac92-7d408fc74c55"
      },
      "source": [
        "#Number of Integer Features\n",
        "(df.dtypes == int).sum()\n"
      ],
      "execution_count": 19,
      "outputs": [
        {
          "output_type": "execute_result",
          "data": {
            "text/plain": [
              "4"
            ]
          },
          "metadata": {
            "tags": []
          },
          "execution_count": 19
        }
      ]
    },
    {
      "cell_type": "code",
      "metadata": {
        "id": "04aM2txSMqck",
        "colab_type": "code",
        "colab": {
          "base_uri": "https://localhost:8080/",
          "height": 34
        },
        "outputId": "e2085776-4047-4b7f-f952-635459376cba"
      },
      "source": [
        "#Number of Float Features\n",
        "(df.dtypes == float).sum()"
      ],
      "execution_count": 23,
      "outputs": [
        {
          "output_type": "execute_result",
          "data": {
            "text/plain": [
              "1"
            ]
          },
          "metadata": {
            "tags": []
          },
          "execution_count": 23
        }
      ]
    },
    {
      "cell_type": "markdown",
      "metadata": {
        "id": "WsEl0XdlM30V",
        "colab_type": "text"
      },
      "source": [
        "3) Object Features"
      ]
    },
    {
      "cell_type": "code",
      "metadata": {
        "id": "QS3_heC2M5wQ",
        "colab_type": "code",
        "colab": {
          "base_uri": "https://localhost:8080/",
          "height": 34
        },
        "outputId": "d78c1194-bc4f-45d2-dcc7-afd63fe7df73"
      },
      "source": [
        "#Features with Object Type\n",
        "df.columns[df.dtypes == object]"
      ],
      "execution_count": 25,
      "outputs": [
        {
          "output_type": "execute_result",
          "data": {
            "text/plain": [
              "Index(['Admission_Type', 'Insurance_Type', 'Religion_Type', 'Race', 'Dx'], dtype='object')"
            ]
          },
          "metadata": {
            "tags": []
          },
          "execution_count": 25
        }
      ]
    },
    {
      "cell_type": "markdown",
      "metadata": {
        "id": "9X1fQDkbNFPs",
        "colab_type": "text"
      },
      "source": [
        "4) Unique Values of Insurance Type"
      ]
    },
    {
      "cell_type": "code",
      "metadata": {
        "id": "2XUvcHOpNKbY",
        "colab_type": "code",
        "colab": {
          "base_uri": "https://localhost:8080/",
          "height": 51
        },
        "outputId": "8ee7b733-aa20-4991-eec9-f1bca6975ea2"
      },
      "source": [
        "df['Insurance_Type'].unique()"
      ],
      "execution_count": 26,
      "outputs": [
        {
          "output_type": "execute_result",
          "data": {
            "text/plain": [
              "array(['private', 'medicare', 'government', 'medicaid', 'self pay'],\n",
              "      dtype=object)"
            ]
          },
          "metadata": {
            "tags": []
          },
          "execution_count": 26
        }
      ]
    },
    {
      "cell_type": "markdown",
      "metadata": {
        "id": "5FRdZr1iNVR_",
        "colab_type": "text"
      },
      "source": [
        "5) Statistic Summary for Admission Length"
      ]
    },
    {
      "cell_type": "code",
      "metadata": {
        "id": "KZlyiNmwNL14",
        "colab_type": "code",
        "colab": {
          "base_uri": "https://localhost:8080/",
          "height": 170
        },
        "outputId": "e0c44984-b8dd-49b1-9454-97c07abe2228"
      },
      "source": [
        "df['AdmissionLengthDays'].describe()"
      ],
      "execution_count": 31,
      "outputs": [
        {
          "output_type": "execute_result",
          "data": {
            "text/plain": [
              "count    58863.000000\n",
              "mean        10.138978\n",
              "std         12.465611\n",
              "min         -0.945139\n",
              "25%          3.743056\n",
              "50%          6.465972\n",
              "75%         11.798264\n",
              "max        294.660417\n",
              "Name: AdmissionLengthDays, dtype: float64"
            ]
          },
          "metadata": {
            "tags": []
          },
          "execution_count": 31
        }
      ]
    },
    {
      "cell_type": "code",
      "metadata": {
        "id": "dOzu316TN964",
        "colab_type": "code",
        "colab": {
          "base_uri": "https://localhost:8080/",
          "height": 34
        },
        "outputId": "9900179e-c32c-4327-bd4e-ad11e3ceb65a"
      },
      "source": [
        "scipy.stats.describe(df['AdmissionLengthDays'])\n"
      ],
      "execution_count": 32,
      "outputs": [
        {
          "output_type": "execute_result",
          "data": {
            "text/plain": [
              "DescribeResult(nobs=58863, minmax=(-0.9451388890000001, 294.6604167), mean=10.13897774871043, variance=155.39145743335578, skewness=4.547507703001167, kurtosis=34.91875973033303)"
            ]
          },
          "metadata": {
            "tags": []
          },
          "execution_count": 32
        }
      ]
    },
    {
      "cell_type": "markdown",
      "metadata": {
        "id": "Gxldl6GZOGJx",
        "colab_type": "text"
      },
      "source": [
        "5) What is the most common admission type, insurance type, religion type, race, and diagnosis (Dx)?\n"
      ]
    },
    {
      "cell_type": "code",
      "metadata": {
        "colab_type": "code",
        "outputId": "7b88f2cc-9c64-4766-b121-51a9855beb30",
        "id": "8O1v_Ne5Ofl0",
        "colab": {
          "base_uri": "https://localhost:8080/",
          "height": 102
        }
      },
      "source": [
        "#admission type, insurance type, race, and diagnosis (Dx)\n",
        "df[['Admission_Type', 'Insurance_Type', 'Race', 'Dx']].max()"
      ],
      "execution_count": 57,
      "outputs": [
        {
          "output_type": "execute_result",
          "data": {
            "text/plain": [
              "Admission_Type                     urgent\n",
              "Insurance_Type                   self pay\n",
              "Race                      white - russian\n",
              "Dx                zygomatic fracture left\n",
              "dtype: object"
            ]
          },
          "metadata": {
            "tags": []
          },
          "execution_count": 57
        }
      ]
    },
    {
      "cell_type": "code",
      "metadata": {
        "id": "OQTFmU38OIBt",
        "colab_type": "code",
        "colab": {
          "base_uri": "https://localhost:8080/",
          "height": 34
        },
        "outputId": "23642df3-fc20-48f9-8aeb-49e38116ce81"
      },
      "source": [
        "#Religion type\n",
        "df['Religion_Type'].value_counts().index[0]"
      ],
      "execution_count": 58,
      "outputs": [
        {
          "output_type": "execute_result",
          "data": {
            "text/plain": [
              "'catholic'"
            ]
          },
          "metadata": {
            "tags": []
          },
          "execution_count": 58
        }
      ]
    },
    {
      "cell_type": "markdown",
      "metadata": {
        "id": "-baaqy1MQSKk",
        "colab_type": "text"
      },
      "source": [
        "6) Show a histogram for admission days (with appropriate labels, titles, etc), and also show a histogram for admission days on a log scale. Describe what you see.\n"
      ]
    },
    {
      "cell_type": "code",
      "metadata": {
        "id": "Bv4YLwVeQe2V",
        "colab_type": "code",
        "colab": {
          "base_uri": "https://localhost:8080/",
          "height": 312
        },
        "outputId": "c28fdc91-681a-4072-c9c5-f7a45e60ced5"
      },
      "source": [
        "#Admission Days\n",
        "plot = df['AdmissionLengthDays'].hist()\n",
        "plot.set_title(\"Admission Length\")\n",
        "plot.set_xlabel(\"Days\")\n",
        "plot.set_ylabel(\"# of Admissions\")"
      ],
      "execution_count": 66,
      "outputs": [
        {
          "output_type": "execute_result",
          "data": {
            "text/plain": [
              "Text(0, 0.5, '# of Admissions')"
            ]
          },
          "metadata": {
            "tags": []
          },
          "execution_count": 66
        },
        {
          "output_type": "display_data",
          "data": {
            "image/png": "[encoded data removed]",
            "text/plain": [
              "<Figure size 432x288 with 1 Axes>"
            ]
          },
          "metadata": {
            "tags": []
          }
        }
      ]
    },
    {
      "cell_type": "markdown",
      "metadata": {
        "id": "pzz2TedISeVw",
        "colab_type": "text"
      },
      "source": [
        "Through this diagram, we see that ~90% of patient visits last between 0-25 days. There is a maximum stay duration of 294 days, but there are very few of these cases. In fact, after 125 days, the number of admissions becomes nearly negligible."
      ]
    },
    {
      "cell_type": "code",
      "metadata": {
        "id": "cYVPfgG1TIs9",
        "colab_type": "code",
        "colab": {
          "base_uri": "https://localhost:8080/",
          "height": 299
        },
        "outputId": "0d181bc8-77e0-4d40-cf64-22efb75edafb"
      },
      "source": [
        "#Log Plot\n",
        "plot = df['AdmissionLengthDays'].hist()\n",
        "plot.set_title(\"Admission Length\")\n",
        "plot.set_xlabel(\"Log of Days\")\n",
        "plot.set_ylabel(\"# of Admissions\")\n",
        "plot.set_xscale(\"log\")"
      ],
      "execution_count": 72,
      "outputs": [
        {
          "output_type": "display_data",
          "data": {
            "image/png": "[encoded data removed]",
            "text/plain": [
              "<Figure size 432x288 with 1 Axes>"
            ]
          },
          "metadata": {
            "tags": []
          }
        }
      ]
    },
    {
      "cell_type": "markdown",
      "metadata": {
        "id": "svLmzUCuTiIW",
        "colab_type": "text"
      },
      "source": [
        "Graphing on the log scale provides us a different visualization of the data. As we discoverd in the previous graph, a majority of the patients experience short stays at the hospital. However, using this log scale, we are able to gain further insight to what the frequency of values at the extremes are. We now see that the data is even more strongly centered close to 0\n"
      ]
    },
    {
      "cell_type": "markdown",
      "metadata": {
        "id": "c6BXOrXuV3zr",
        "colab_type": "text"
      },
      "source": [
        "7) Compare the average length of admission between those who died versus those who did not die. Show a visualization, with appropriate labels, titles, etc.\n"
      ]
    },
    {
      "cell_type": "code",
      "metadata": {
        "id": "g5bVtQzIV87j",
        "colab_type": "code",
        "colab": {
          "base_uri": "https://localhost:8080/",
          "height": 332
        },
        "outputId": "b4a84830-4bb0-45aa-b826-14e359ba9f9e"
      },
      "source": [
        "deaths = df.groupby(\"Death_1\")\n",
        "plot = deaths['AdmissionLengthDays'].mean().plot.bar()\n",
        "plot.set_title(\"Admission Length for Surviving vs Dying Patients\")\n",
        "plot.set_xlabel(\"\")\n",
        "plot.set_xticklabels([\"Survived\", \"Died\"])\n",
        "plot.set_ybound(lower = 10, upper = 10.2)\n",
        "plot.set_ylabel(\"Average Admission Length\")"
      ],
      "execution_count": 99,
      "outputs": [
        {
          "output_type": "execute_result",
          "data": {
            "text/plain": [
              "Text(0, 0.5, 'Average Admission Length')"
            ]
          },
          "metadata": {
            "tags": []
          },
          "execution_count": 99
        },
        {
          "output_type": "display_data",
          "data": {
            "image/png": "[encoded data removed]",
            "text/plain": [
              "<Figure size 432x288 with 1 Axes>"
            ]
          },
          "metadata": {
            "tags": []
          }
        }
      ]
    },
    {
      "cell_type": "markdown",
      "metadata": {
        "id": "X3BbKZ7tYrqU",
        "colab_type": "text"
      },
      "source": [
        "8) Describe the association between death and insurance type and show a visualization or test.\n"
      ]
    },
    {
      "cell_type": "code",
      "metadata": {
        "colab_type": "code",
        "outputId": "b2d867d1-26ea-45dc-86b8-bc60dba816cb",
        "id": "ugdlTevuaCCa",
        "colab": {
          "base_uri": "https://localhost:8080/",
          "height": 348
        }
      },
      "source": [
        "#plot = df['Death_1', \"Insurance_Type\"].plot()\\\n",
        "insurances = df.groupby(\"Insurance_Type\")\n",
        "plot = insurances[\"Death_1\"].mean().sort_values().plot.bar()\n",
        "plot.set_ylabel(\"Percentage of Patients Experiencing Death\")\n"
      ],
      "execution_count": 115,
      "outputs": [
        {
          "output_type": "execute_result",
          "data": {
            "text/plain": [
              "Text(0, 0.5, 'Percentage of Patients Experiencing Death')"
            ]
          },
          "metadata": {
            "tags": []
          },
          "execution_count": 115
        },
        {
          "output_type": "display_data",
          "data": {
            "image/png": "[encoded data removed]",
            "text/plain": [
              "<Figure size 432x288 with 1 Axes>"
            ]
          },
          "metadata": {
            "tags": []
          }
        }
      ]
    },
    {
      "cell_type": "markdown",
      "metadata": {
        "id": "NxSW9eWKataa",
        "colab_type": "text"
      },
      "source": [
        "This Essentially shows the relationship between different types of insurance and the death rate. This shows that people who don't have insurance (for various reasons) have the highest rates of death. I imagine that this is because health care costs and most uninsured patients are likely low income and don't have the money to pay for operations. Secondly, we see higher death rates for medicare. This is probably attributable to the older age of patients with this insurance. It also speaks to the quality of insurance for medicare vs medicaid with both target the same customer demographic. Surprisingly, govenrment insurance seems like it has good coverage. Though it has the lowest death rate, we must be careful about drawing conclusions because these results could be dependent on customer demographic, quality of care, amongst other things. "
      ]
    }
  ]
}